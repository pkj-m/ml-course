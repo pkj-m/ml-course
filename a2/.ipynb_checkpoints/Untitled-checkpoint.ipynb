{
 "cells": [
  {
   "cell_type": "code",
   "execution_count": 1,
   "metadata": {},
   "outputs": [],
   "source": [
    "from numpy import genfromtxt"
   ]
  },
  {
   "cell_type": "code",
   "execution_count": 20,
   "metadata": {},
   "outputs": [],
   "source": [
    "train_data = genfromtxt('data2_19.csv', delimiter = ',', encoding = \"utf8\", dtype = None)\n",
    "test_data = genfromtxt('test2_19.csv', delimiter = ',', encoding = \"utf8\", dtype = None)"
   ]
  },
  {
   "cell_type": "code",
   "execution_count": 22,
   "metadata": {},
   "outputs": [],
   "source": [
    "test_data = test_data[1:]\n",
    "train_data = train_data[1:]"
   ]
  },
  {
   "cell_type": "code",
   "execution_count": 23,
   "metadata": {},
   "outputs": [
    {
     "data": {
      "text/plain": [
       "array([['\"0', '5', '1', '4', '4', '4', '5\"'],\n",
       "       ['\"0', '5', '2', '2', '4', '4', '5\"'],\n",
       "       ['\"0', '5', '3', '5', '4', '5', '5\"'],\n",
       "       ['\"1', '3', '4', '4', '5', '1', '3\"'],\n",
       "       ['\"1', '5', '1', '5', '5', '5', '5\"'],\n",
       "       ['\"1', '4', '3', '3', '4', '4', '4\"'],\n",
       "       ['\"1', '5', '5', '1', '1', '5', '1\"'],\n",
       "       ['\"0', '4', '4', '4', '4', '1', '3\"'],\n",
       "       ['\"1', '5', '2', '3', '4', '4', '3\"'],\n",
       "       ['\"0', '5', '3', '3', '1', '3', '5\"'],\n",
       "       ['\"1', '5', '2', '3', '4', '2', '5\"'],\n",
       "       ['\"1', '5', '3', '3', '4', '4', '5\"'],\n",
       "       ['\"0', '4', '3', '3', '4', '4', '5\"'],\n",
       "       ['\"0', '5', '3', '2', '5', '5', '5\"']], dtype='<U3')"
      ]
     },
     "execution_count": 23,
     "metadata": {},
     "output_type": "execute_result"
    }
   ],
   "source": [
    "test_data"
   ]
  },
  {
   "cell_type": "code",
   "execution_count": null,
   "metadata": {},
   "outputs": [],
   "source": [
    "def test(train_data, test_data):\n",
    "    prob_true = 0\n",
    "    positive_examples = 0\n",
    "    negative_examples = 0\n",
    "    total_examples = len(train_data)\n",
    "    \n",
    "    for ex in train_data:\n",
    "        if ex[1] == '1':\n",
    "            positive_examples += 1\n",
    "        else:\n",
    "            negative_examples += 1\n",
    "    \n",
    "    prob_true = positive_examples / total_examples\n",
    "    prob_false = 1 - prob_true\n",
    "    \n",
    "    correct_predictions = 0\n",
    "    \n",
    "    for test in test_data:\n",
    "        \n",
    "        prob_yes = 1.0\n",
    "        prob_no = 1.0\n",
    "                \n",
    "        for attribute_index in range(1:6):\n",
    "            \n",
    "            total_cases = len(train_data)\n",
    "            yes_cases = 0\n",
    "            no_cases = 0\n",
    "            \n",
    "            match_yes_cases = 0\n",
    "            match_no_cases = 0\n",
    "            \n",
    "            for case in train_data:\n",
    "                if case[0] == 1:\n",
    "                    yes_cases += 1\n",
    "                    \n",
    "                    if (test[attribute_index] == case[attribute_index]):\n",
    "                        match_yes_cases += 1\n",
    "                \n",
    "                if case[0] == 0:\n",
    "                    no_cases += 1\n",
    "                    \n",
    "                    if (test[attribute_index] == case[attribute_index]):\n",
    "                        match_no_cases += 1\n",
    "            \n",
    "            match_yes_cases += 1\n",
    "            match_no_cases += 1\n",
    "            total_case += 5\n",
    "            \n",
    "                \n",
    "            prob_yes *= match_yes_cases / yes_cases\n",
    "            prob_no *= match_no_cases / no_cases\n",
    "            \n",
    "            \n",
    "            \n",
    "        prob = prob * 1.0 * match_case / total_case\n",
    "        \n",
    "        if prob >= 0.5\n",
    "        \n",
    "    \n",
    "            "
   ]
  }
 ],
 "metadata": {
  "kernelspec": {
   "display_name": "Python 3",
   "language": "python",
   "name": "python3"
  },
  "language_info": {
   "codemirror_mode": {
    "name": "ipython",
    "version": 3
   },
   "file_extension": ".py",
   "mimetype": "text/x-python",
   "name": "python",
   "nbconvert_exporter": "python",
   "pygments_lexer": "ipython3",
   "version": "3.7.1"
  }
 },
 "nbformat": 4,
 "nbformat_minor": 2
}
