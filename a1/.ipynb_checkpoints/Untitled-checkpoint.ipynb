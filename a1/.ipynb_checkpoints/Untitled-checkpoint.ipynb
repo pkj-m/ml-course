{
 "cells": [
  {
   "cell_type": "code",
   "execution_count": 2,
   "metadata": {},
   "outputs": [],
   "source": [
    "from numpy import genfromtxt"
   ]
  },
  {
   "cell_type": "code",
   "execution_count": 13,
   "metadata": {},
   "outputs": [],
   "source": [
    "data = genfromtxt('data_1.csv', delimiter = ',', encoding = \"utf8\", dtype = None)"
   ]
  },
  {
   "cell_type": "code",
   "execution_count": 14,
   "metadata": {},
   "outputs": [
    {
     "name": "stdout",
     "output_type": "stream",
     "text": [
      "[['pclass' 'age' 'gender' 'survived']\n",
      " ['1st' 'adult' 'male' 'yes']\n",
      " ['1st' 'adult' 'male' 'yes']\n",
      " ...\n",
      " ['crew' 'adult' 'female' 'no']\n",
      " ['crew' 'adult' 'female' 'no']\n",
      " ['crew' 'adult' 'female' 'no']]\n"
     ]
    }
   ],
   "source": [
    "print(data)"
   ]
  },
  {
   "cell_type": "code",
   "execution_count": 22,
   "metadata": {},
   "outputs": [],
   "source": [
    "data = data[2:]"
   ]
  },
  {
   "cell_type": "code",
   "execution_count": 24,
   "metadata": {},
   "outputs": [
    {
     "name": "stdout",
     "output_type": "stream",
     "text": [
      "[['1st' 'adult' 'male' 'yes']\n",
      " ['1st' 'adult' 'male' 'yes']\n",
      " ['1st' 'adult' 'male' 'yes']\n",
      " ...\n",
      " ['crew' 'adult' 'female' 'no']\n",
      " ['crew' 'adult' 'female' 'no']\n",
      " ['crew' 'adult' 'female' 'no']]\n"
     ]
    }
   ],
   "source": [
    "print(data)"
   ]
  },
  {
   "cell_type": "code",
   "execution_count": 25,
   "metadata": {},
   "outputs": [],
   "source": [
    "columns = ['pclass', 'age', 'gender', 'survived']"
   ]
  },
  {
   "cell_type": "code",
   "execution_count": 26,
   "metadata": {},
   "outputs": [],
   "source": [
    "def unique_values(rows, col):\n",
    "    return set([row[col] for row in rows])"
   ]
  },
  {
   "cell_type": "code",
   "execution_count": 28,
   "metadata": {},
   "outputs": [
    {
     "name": "stdout",
     "output_type": "stream",
     "text": [
      "{'child', 'adult'}\n",
      "{'male', 'female'}\n"
     ]
    }
   ],
   "source": [
    "print(unique_values(data, 1))\n",
    "print(unique_values(data, 2))\n"
   ]
  },
  {
   "cell_type": "code",
   "execution_count": null,
   "metadata": {},
   "outputs": [],
   "source": [
    "def calculate_freq(rows):\n",
    "    counts = {}\n",
    "    for row in rows:\n",
    "        label = row[-1]\n",
    "        "
   ]
  }
 ],
 "metadata": {
  "kernelspec": {
   "display_name": "Python 3",
   "language": "python",
   "name": "python3"
  },
  "language_info": {
   "codemirror_mode": {
    "name": "ipython",
    "version": 3
   },
   "file_extension": ".py",
   "mimetype": "text/x-python",
   "name": "python",
   "nbconvert_exporter": "python",
   "pygments_lexer": "ipython3",
   "version": "3.7.1"
  }
 },
 "nbformat": 4,
 "nbformat_minor": 2
}
